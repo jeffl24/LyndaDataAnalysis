{
 "cells": [
  {
   "cell_type": "code",
   "execution_count": 58,
   "metadata": {
    "collapsed": true
   },
   "outputs": [],
   "source": [
    "word = open('words','r')"
   ]
  },
  {
   "cell_type": "code",
   "execution_count": 59,
   "metadata": {
    "collapsed": false
   },
   "outputs": [
    {
     "data": {
      "text/plain": [
       "<_io.TextIOWrapper name='words' mode='r' encoding='cp1252'>"
      ]
     },
     "execution_count": 59,
     "metadata": {},
     "output_type": "execute_result"
    }
   ],
   "source": [
    "word"
   ]
  },
  {
   "cell_type": "code",
   "execution_count": 60,
   "metadata": {
    "collapsed": true
   },
   "outputs": [],
   "source": [
    "wordlist = word.readlines()"
   ]
  },
  {
   "cell_type": "code",
   "execution_count": 61,
   "metadata": {
    "collapsed": false,
    "scrolled": false
   },
   "outputs": [
    {
     "data": {
      "text/plain": [
       "['A\\n',\n",
       " 'a\\n',\n",
       " 'aa\\n',\n",
       " 'aal\\n',\n",
       " 'aalii\\n',\n",
       " 'aam\\n',\n",
       " 'Aani\\n',\n",
       " 'aardvark\\n',\n",
       " 'aardwolf\\n',\n",
       " 'Aaron\\n']"
      ]
     },
     "execution_count": 61,
     "metadata": {},
     "output_type": "execute_result"
    }
   ],
   "source": [
    "wordlist[:10]"
   ]
  },
  {
   "cell_type": "code",
   "execution_count": 62,
   "metadata": {
    "collapsed": false
   },
   "outputs": [
    {
     "data": {
      "text/plain": [
       "235886"
      ]
     },
     "execution_count": 62,
     "metadata": {},
     "output_type": "execute_result"
    }
   ],
   "source": [
    "len(wordlist)"
   ]
  },
  {
   "cell_type": "code",
   "execution_count": 63,
   "metadata": {
    "collapsed": false
   },
   "outputs": [
    {
     "data": {
      "text/plain": [
       "'Aaron'"
      ]
     },
     "execution_count": 63,
     "metadata": {},
     "output_type": "execute_result"
    }
   ],
   "source": [
    "'Aaron\\n'.strip()"
   ]
  },
  {
   "cell_type": "code",
   "execution_count": 64,
   "metadata": {
    "collapsed": false
   },
   "outputs": [
    {
     "data": {
      "text/plain": [
       "'aaron'"
      ]
     },
     "execution_count": 64,
     "metadata": {},
     "output_type": "execute_result"
    }
   ],
   "source": [
    "'Aaron'.lower()"
   ]
  },
  {
   "cell_type": "code",
   "execution_count": 65,
   "metadata": {
    "collapsed": true
   },
   "outputs": [],
   "source": [
    "wordclean = [word.strip().lower() for word in wordlist]"
   ]
  },
  {
   "cell_type": "code",
   "execution_count": 66,
   "metadata": {
    "collapsed": false
   },
   "outputs": [
    {
     "data": {
      "text/plain": [
       "['a',\n",
       " 'a',\n",
       " 'aa',\n",
       " 'aal',\n",
       " 'aalii',\n",
       " 'aam',\n",
       " 'aani',\n",
       " 'aardvark',\n",
       " 'aardwolf',\n",
       " 'aaron']"
      ]
     },
     "execution_count": 66,
     "metadata": {},
     "output_type": "execute_result"
    }
   ],
   "source": [
    "wordclean[:10]"
   ]
  },
  {
   "cell_type": "code",
   "execution_count": 67,
   "metadata": {
    "collapsed": true
   },
   "outputs": [],
   "source": [
    "wordunique = list(set(wordclean))"
   ]
  },
  {
   "cell_type": "code",
   "execution_count": 68,
   "metadata": {
    "collapsed": true
   },
   "outputs": [],
   "source": [
    "wordunique.sort()"
   ]
  },
  {
   "cell_type": "code",
   "execution_count": 69,
   "metadata": {
    "collapsed": true
   },
   "outputs": [],
   "source": [
    "wordclean = [word.strip().lower() for word in open('words','r')]"
   ]
  },
  {
   "cell_type": "code",
   "execution_count": 70,
   "metadata": {
    "collapsed": true
   },
   "outputs": [],
   "source": [
    "wordclean = sorted(list(set([word.strip().lower() for word in open('words','r')])))"
   ]
  },
  {
   "cell_type": "code",
   "execution_count": 71,
   "metadata": {
    "collapsed": false
   },
   "outputs": [
    {
     "data": {
      "text/plain": [
       "['a',\n",
       " 'aa',\n",
       " 'aal',\n",
       " 'aalii',\n",
       " 'aam',\n",
       " 'aani',\n",
       " 'aardvark',\n",
       " 'aardwolf',\n",
       " 'aaron',\n",
       " 'aaronic']"
      ]
     },
     "execution_count": 71,
     "metadata": {},
     "output_type": "execute_result"
    }
   ],
   "source": [
    "wordclean[:10]"
   ]
  },
  {
   "cell_type": "code",
   "execution_count": 72,
   "metadata": {
    "collapsed": false
   },
   "outputs": [
    {
     "data": {
      "text/plain": [
       "'eilsv'"
      ]
     },
     "execution_count": 72,
     "metadata": {},
     "output_type": "execute_result"
    }
   ],
   "source": [
    "def signature(word):\n",
    "    return ''.join(sorted(word))\n",
    "signature(\"lives\")"
   ]
  },
  {
   "cell_type": "code",
   "execution_count": 73,
   "metadata": {
    "collapsed": false
   },
   "outputs": [],
   "source": [
    " def anagram(myword):\n",
    "        return [word for word in wordclean if signature(word) == signature(myword)]"
   ]
  },
  {
   "cell_type": "code",
   "execution_count": 74,
   "metadata": {
    "collapsed": false
   },
   "outputs": [
    {
     "data": {
      "text/plain": [
       "['dictionary', 'indicatory']"
      ]
     },
     "execution_count": 74,
     "metadata": {},
     "output_type": "execute_result"
    }
   ],
   "source": [
    "anagram(\"dictionary\")\n"
   ]
  },
  {
   "cell_type": "code",
   "execution_count": null,
   "metadata": {
    "collapsed": false
   },
   "outputs": [],
   "source": [
    "\"/\".join([\"a\", \"b\"])"
   ]
  },
  {
   "cell_type": "code",
   "execution_count": 77,
   "metadata": {
    "collapsed": true
   },
   "outputs": [],
   "source": [
    "def anagram(myword):\n",
    "    return[word for word in wordclean if signature(word) == signature (myword)]"
   ]
  },
  {
   "cell_type": "code",
   "execution_count": 78,
   "metadata": {
    "collapsed": false
   },
   "outputs": [
    {
     "data": {
      "text/plain": [
       "['dictionary', 'indicatory']"
      ]
     },
     "execution_count": 78,
     "metadata": {},
     "output_type": "execute_result"
    }
   ],
   "source": [
    "anagram(\"dictionary\")\n"
   ]
  },
  {
   "cell_type": "code",
   "execution_count": 79,
   "metadata": {
    "collapsed": false
   },
   "outputs": [
    {
     "data": {
      "text/plain": [
       "['dictionary', 'indicatory']"
      ]
     },
     "execution_count": 79,
     "metadata": {},
     "output_type": "execute_result"
    }
   ],
   "source": [
    "anagram('dictionary')"
   ]
  },
  {
   "cell_type": "code",
   "execution_count": 80,
   "metadata": {
    "collapsed": false
   },
   "outputs": [
    {
     "name": "stdout",
     "output_type": "stream",
     "text": [
      "1 loop, best of 3: 790 ms per loop\n"
     ]
    }
   ],
   "source": [
    "%timeit anagram(\"dictionary\")"
   ]
  },
  {
   "cell_type": "code",
   "execution_count": 81,
   "metadata": {
    "collapsed": false
   },
   "outputs": [
    {
     "ename": "KeyError",
     "evalue": "'a'",
     "output_type": "error",
     "traceback": [
      "\u001b[0;31m---------------------------------------------------------------------------\u001b[0m",
      "\u001b[0;31mKeyError\u001b[0m                                  Traceback (most recent call last)",
      "\u001b[0;32m<ipython-input-81-f4fa588338a2>\u001b[0m in \u001b[0;36m<module>\u001b[0;34m()\u001b[0m\n\u001b[1;32m      1\u001b[0m \u001b[0mwords_sig\u001b[0m\u001b[1;33m=\u001b[0m\u001b[1;33m{\u001b[0m\u001b[1;33m}\u001b[0m\u001b[1;33m\u001b[0m\u001b[0m\n\u001b[1;32m      2\u001b[0m \u001b[1;32mfor\u001b[0m \u001b[0mword\u001b[0m \u001b[1;32min\u001b[0m \u001b[0mwordclean\u001b[0m\u001b[1;33m:\u001b[0m\u001b[1;33m\u001b[0m\u001b[0m\n\u001b[0;32m----> 3\u001b[0;31m     \u001b[0mwords_sig\u001b[0m\u001b[1;33m[\u001b[0m\u001b[0msignature\u001b[0m\u001b[1;33m(\u001b[0m\u001b[0mword\u001b[0m\u001b[1;33m)\u001b[0m\u001b[1;33m]\u001b[0m\u001b[1;33m.\u001b[0m\u001b[0mappend\u001b[0m\u001b[1;33m(\u001b[0m\u001b[0mword\u001b[0m\u001b[1;33m)\u001b[0m\u001b[1;33m\u001b[0m\u001b[0m\n\u001b[0m",
      "\u001b[0;31mKeyError\u001b[0m: 'a'"
     ]
    }
   ],
   "source": [
    "words_sig={}\n",
    "for word in wordclean:\n",
    "    words_sig[signature(word)].append(word)"
   ]
  },
  {
   "cell_type": "code",
   "execution_count": 82,
   "metadata": {
    "collapsed": true
   },
   "outputs": [],
   "source": [
    "import collections"
   ]
  },
  {
   "cell_type": "code",
   "execution_count": 83,
   "metadata": {
    "collapsed": true
   },
   "outputs": [],
   "source": [
    "words_sig = collections.defaultdict(list)\n",
    "for word in wordclean:\n",
    "    words_sig[signature(word)].append(word)"
   ]
  },
  {
   "cell_type": "code",
   "execution_count": 84,
   "metadata": {
    "collapsed": false
   },
   "outputs": [
    {
     "data": {
      "text/plain": [
       "defaultdict(list,\n",
       "            {'aagiillnpptty': ['palpitatingly'],\n",
       "             'acdeiiiprr': ['cirripedia'],\n",
       "             'aaciilnoprt': ['tropicalian'],\n",
       "             'aacdeelnnt': ['cannelated'],\n",
       "             'aimpr': ['impar', 'pamir', 'prima'],\n",
       "             'abeelrrtt': ['blatterer'],\n",
       "             'aaegilms': ['semigala'],\n",
       "             'ddeghinrs': ['shredding'],\n",
       "             'acdilmopy': ['diplomacy'],\n",
       "             'aeiklprst': ['straplike'],\n",
       "             'ceefllpprtuy': ['pluperfectly'],\n",
       "             'aaceehilmp': ['cephalemia'],\n",
       "             'afittuy': ['fatuity'],\n",
       "             'ilnos': ['linos'],\n",
       "             'aeiklltuv': ['vaultlike'],\n",
       "             'aopprsst': ['passport'],\n",
       "             'aceeilnnt': ['cantilene'],\n",
       "             'cdeikls': ['sickled'],\n",
       "             'deioost': ['osteoid'],\n",
       "             'aeiilmsttuv': ['stimulative'],\n",
       "             'acddehio': ['diadoche'],\n",
       "             'cdennoo': ['condone'],\n",
       "             'aeinoprrtz': ['patronizer'],\n",
       "             'aabccjkkl': ['blackjack'],\n",
       "             'ccehiooprssty': ['chrysopoetics'],\n",
       "             'ddeillmoor': ['mordelloid'],\n",
       "             'acfiinorty': ['fictionary'],\n",
       "             'aehlmu': ['hamule'],\n",
       "             'ccghiilooty': ['thiogycolic'],\n",
       "             'eeginrs': ['greisen'],\n",
       "             'acdeegilloty': ['geodetically'],\n",
       "             'oorsty': ['stoory'],\n",
       "             'accdeen': ['cadence'],\n",
       "             'dennosssu': ['soundness'],\n",
       "             'aggimmnnooprsuy': ['gymnosporangium'],\n",
       "             'adnoprv': ['provand'],\n",
       "             'cdeeegiilnorv': ['overdiligence'],\n",
       "             'aeffghiinnt': ['infangthief'],\n",
       "             'ahiilnopsttu': ['sulphitation'],\n",
       "             'abeeiilntv': ['inevitable'],\n",
       "             'acdeeeirtv': ['decreative'],\n",
       "             'elmosu': ['mousle'],\n",
       "             'aeginorrz': ['organizer'],\n",
       "             'eilnorss': ['ironless'],\n",
       "             'ceeinnnootux': ['nonexecution'],\n",
       "             'aacinqtu': ['acquaint'],\n",
       "             'ademnnruu': ['unmanured'],\n",
       "             'abcdehlnn': ['benchland'],\n",
       "             'aciiklstt': ['sticktail'],\n",
       "             'ailmpp': ['pimpla'],\n",
       "             'almoy': ['amylo', 'loamy'],\n",
       "             'ceklpu': ['puckle'],\n",
       "             'acdddko': ['daddock'],\n",
       "             'acehlossttyy': ['tachysystole'],\n",
       "             'adghhior': ['highroad'],\n",
       "             'ccdeehis': ['chisedec'],\n",
       "             'cddehinnu': ['unchidden'],\n",
       "             'eeiilosst': ['teleiosis'],\n",
       "             'aachimrst': ['catharism'],\n",
       "             'ddimru': ['dirdum'],\n",
       "             'aabcdeehlnnot': ['nondetachable'],\n",
       "             'abegillnu': ['unligable'],\n",
       "             'aacciiilnssstt': ['anticlassicist'],\n",
       "             'eiinnnrttu': ['innutrient'],\n",
       "             'aceiilorstt': ['aristotelic'],\n",
       "             'beiiilmnoosv': ['semioblivion'],\n",
       "             'aceintt': ['nictate', 'tetanic'],\n",
       "             'eghlootyy': ['hyetology'],\n",
       "             'illnsuy': ['unsilly'],\n",
       "             'aceillop': ['calliope'],\n",
       "             'dhru': ['duhr'],\n",
       "             'gimnoo': ['mooing'],\n",
       "             'aaceilnnortuz': ['connaturalize'],\n",
       "             'ceehiinpprr': ['perinephric'],\n",
       "             'aehhlmmnooooprttty': ['ophthalmotonometry'],\n",
       "             'aadeeiimnnrt': ['antemeridian'],\n",
       "             'aimprrw': ['pirrmaw'],\n",
       "             'aaciinrty': ['cyniatria'],\n",
       "             'ceiillnsuvy': ['inclusively'],\n",
       "             'cenrsuu': ['uncurse'],\n",
       "             'aaeginps': ['pegasian'],\n",
       "             'aceeltv': ['cavelet'],\n",
       "             'aiilopprt': ['propitial', 'triplopia'],\n",
       "             'abeflllnoouw': ['unfollowable'],\n",
       "             'eilnntty': ['intently', 'nitently'],\n",
       "             'aiiillmnsttu': ['illuminatist'],\n",
       "             'aabceehmrst': ['beachmaster'],\n",
       "             'adgimnno': ['mandingo'],\n",
       "             'adehhiim': ['hamidieh'],\n",
       "             'aaiilnpt': ['pilatian'],\n",
       "             'ehiiklnpsx': ['sphinxlike'],\n",
       "             'aaaikrr': ['arikara'],\n",
       "             'anrsstyy': ['synastry'],\n",
       "             'acehiinopprsst': ['spinthariscope'],\n",
       "             'eimpqru': ['quimper'],\n",
       "             'bdeiillnossu': ['indissoluble'],\n",
       "             'efhhooors': ['horsehoof'],\n",
       "             'cdhoorru': ['urochord'],\n",
       "             'cccilnooty': ['ontocyclic'],\n",
       "             'ceggiimnotvy': ['gingivectomy'],\n",
       "             'almnopw': ['plowman'],\n",
       "             'beinnostuv': ['subvention'],\n",
       "             'aaciillnootz': ['localization'],\n",
       "             'adghiinrtww': ['withdrawing'],\n",
       "             'bdehiinops': ['bisphenoid'],\n",
       "             'aaeijnqsu': ['jaquesian'],\n",
       "             'adeelstw': ['saltweed'],\n",
       "             'ccior': ['croci'],\n",
       "             'agilnsw': ['swaling'],\n",
       "             'bcddeeeilns': ['descendible'],\n",
       "             'aadeilmopstty': ['platystomidae'],\n",
       "             'aeeinooprrrstu': ['anterosuperior', 'superoanterior'],\n",
       "             'aeiors': ['ariose'],\n",
       "             'ceeennrst': ['secernent', 'sentencer'],\n",
       "             'ccekknoor': ['crookneck'],\n",
       "             'aaegiillmry': ['imagerially'],\n",
       "             'degnnoppuu': ['unoppugned'],\n",
       "             'deeellrttu': ['tellureted'],\n",
       "             'aeehilpprst': ['prelateship'],\n",
       "             'aabimnnru': ['burmannia'],\n",
       "             'aellopstyy': ['paleostyly'],\n",
       "             'abelrst': ['blaster', 'reblast', 'stabler'],\n",
       "             'aeehmnoooprrstux': ['seropneumothorax'],\n",
       "             'aginnnosv': ['nonsaving'],\n",
       "             'ehnorr': ['horner'],\n",
       "             'denrssu': ['undress'],\n",
       "             'aabcinorrtu': ['carburation'],\n",
       "             'aaceeeimnnrrstt': ['reascertainment'],\n",
       "             'aeegrtu': ['erugate', 'guetare'],\n",
       "             'ceinpprst': ['penscript'],\n",
       "             'abegimnosu': ['ambigenous'],\n",
       "             'aaaeenr': ['araneae'],\n",
       "             'aiipt': ['taipi'],\n",
       "             'aaaagmsssu': ['massasauga'],\n",
       "             'aefiinnoorstuu': ['autoreinfusion'],\n",
       "             'aceehhilnst': ['cheilanthes'],\n",
       "             'aclorst': ['scrotal'],\n",
       "             'addeefgilnrrsssu': ['disregardfulness'],\n",
       "             'ehils': ['liesh', 'shiel'],\n",
       "             'acdemno': ['conamed', 'macedon'],\n",
       "             'aadgnp': ['padnag'],\n",
       "             'bemnorstu': ['brumstone'],\n",
       "             'adeelnnru': ['unlearned'],\n",
       "             'adeehllnrs': ['handseller'],\n",
       "             'cceeeilmorrt': ['electromeric'],\n",
       "             'bdinstu': ['dustbin'],\n",
       "             'goort': ['groot'],\n",
       "             'altuz': ['tuzla'],\n",
       "             'dgimmnru': ['drumming'],\n",
       "             'aaacceghhlooopprstu': ['cephalothoracopagus'],\n",
       "             'achiilnrsty': ['christianly'],\n",
       "             'ceimmoopss': ['miscompose'],\n",
       "             'acefiinnr': ['financier'],\n",
       "             'eimopruu': ['europium'],\n",
       "             'aahhkklu': ['halukkah'],\n",
       "             'bceilmuu': ['cubelium'],\n",
       "             'aegilos': ['soilage'],\n",
       "             'cddeeiiilnnnpsssu': ['undisciplinedness'],\n",
       "             'aacdehiinrt': ['trachinidae'],\n",
       "             'afilmnoortu': ['formulation'],\n",
       "             'aaaeiilnnorsu': ['enaliosaurian'],\n",
       "             'aceggnooorsu': ['gorgonaceous'],\n",
       "             'aacceehhlmopsu': ['chamecephalous'],\n",
       "             'eikrst': ['skiter', 'strike'],\n",
       "             'adelnruy': ['underlay'],\n",
       "             'efiilnty': ['felinity', 'finitely'],\n",
       "             'acccehnorty': ['conycatcher', 'technocracy'],\n",
       "             'aiksw': ['kiswa'],\n",
       "             'beghloo': ['boghole'],\n",
       "             'ghiinops': ['ishpingo'],\n",
       "             'abbeglotu': ['outgabble'],\n",
       "             'adfgilnou': ['fungoidal'],\n",
       "             'cinpstyy': ['syntypic'],\n",
       "             'abelrvy': ['bravely'],\n",
       "             'aaceeghillopp': ['cephaloplegia'],\n",
       "             'abcdeelmorstu': ['subectodermal'],\n",
       "             'aehinoopprst': ['nephroptosia', 'prosiphonate'],\n",
       "             'aceehrrsw': ['archsewer'],\n",
       "             'cdeenrssuv': ['curvedness'],\n",
       "             'bddeeir': ['debride'],\n",
       "             'cnoos': ['scoon'],\n",
       "             'aabcehlmnors': ['elasmobranch'],\n",
       "             'deeeioopprrsst': ['peristeropodes'],\n",
       "             'deelprtuy': ['reputedly'],\n",
       "             'ddeinnorsu': ['unindorsed'],\n",
       "             'aacloprsst': ['postsacral', 'sarcoplast'],\n",
       "             'dehioorsst': ['sisterhood'],\n",
       "             'aaadiilorr': ['radiolaria'],\n",
       "             'abddehmo': ['hebdomad'],\n",
       "             'adehiioprss': ['diaphoresis'],\n",
       "             'eginorrsuu': ['rurigenous'],\n",
       "             'prrsuy': ['spurry'],\n",
       "             'cceeeimnorst': ['semiconcrete'],\n",
       "             'ehisst': ['shiest', 'thesis'],\n",
       "             'adeeeilnrs': ['selenidera'],\n",
       "             'aeilps': ['espial', 'lipase', 'pelias'],\n",
       "             'aaadelnoprrt': ['andropetalar'],\n",
       "             'aeeeiknprrst': ['interspeaker'],\n",
       "             'degirr': ['girder', 'ridger'],\n",
       "             'aaeginrsy': ['asynergia', 'gainsayer'],\n",
       "             'afgl': ['flag'],\n",
       "             'aacddehloor': ['adelochorda'],\n",
       "             'aabceehilmp': ['impeachable'],\n",
       "             'aenoopst': ['teaspoon'],\n",
       "             'acfinortu': ['furcation'],\n",
       "             'aakssv': ['kavass', 'vakass'],\n",
       "             'acelss': ['scales'],\n",
       "             'cemnooppstuyy': ['pyopneumocyst'],\n",
       "             'bgilnowz': ['blowzing'],\n",
       "             'aeflry': ['flayer'],\n",
       "             'beflllmoo': ['bloomfell'],\n",
       "             'cellrru': ['cruller'],\n",
       "             'aeginnoorstu': ['anitrogenous'],\n",
       "             'aceefgillloorx': ['reflexological'],\n",
       "             'addeeehhmnsssu': ['mushheadedness'],\n",
       "             'abhhimnpssu': ['bushmanship'],\n",
       "             'cdeefilprsstu': ['disrespectful'],\n",
       "             'adeeglnuu': ['unleagued'],\n",
       "             'ddeeorsww': ['swordweed'],\n",
       "             'deeiilnoprs': ['lepidosiren'],\n",
       "             'behlnoottu': ['buttonhole'],\n",
       "             'afgilo': ['filago', 'gifola'],\n",
       "             'aacdeinoru': ['ecuadorian'],\n",
       "             'iot': ['ito', 'toi'],\n",
       "             'abelorsv': ['absolver'],\n",
       "             'aadeehmnortw': ['womanhearted'],\n",
       "             'abceeiorrrsu': ['cerebrosuria'],\n",
       "             'hkoopu': ['hookup'],\n",
       "             'aaceeillnr': ['realliance'],\n",
       "             'eeflnsssuu': ['usefulness'],\n",
       "             'aaceeiiloprtvz': ['overcapitalize'],\n",
       "             'adeeggnr': ['drengage'],\n",
       "             'adeeefhrt': ['feathered'],\n",
       "             'eeefilprrt': ['prefertile'],\n",
       "             'cggiilnnry': ['cringingly'],\n",
       "             'aaaccdeiiinprrrt': ['intrapericardiac'],\n",
       "             'eehiklopprt': ['prophetlike'],\n",
       "             'aeegprs': ['asperge', 'presage'],\n",
       "             'aghnooprty': ['ontography'],\n",
       "             'aabceeegllnnoss': ['congealableness'],\n",
       "             'aaghoopprrv': ['vaporograph'],\n",
       "             'aeeoppprrv': ['preapprove'],\n",
       "             'eilz': ['izle'],\n",
       "             'aeilloprtvy': ['prolatively'],\n",
       "             'aacilnnoopstuy': ['cyanoplatinous'],\n",
       "             'cdekklnu': ['knuckled'],\n",
       "             'aaccdeehiinoopsty': ['dictyosiphonaceae'],\n",
       "             'aeeegilmnnnorrttv': ['intergovernmental'],\n",
       "             'fgghiiinnt': ['infighting'],\n",
       "             'aalmoprrstu': ['supramortal'],\n",
       "             'eiiosstt': ['osteitis'],\n",
       "             'aaimt': ['amati', 'amita', 'matai'],\n",
       "             'aemorrv': ['overarm'],\n",
       "             'aeeinnorsv': ['savonnerie'],\n",
       "             'ahhiilorrstt': ['holarthritis'],\n",
       "             'deelmoss': ['modeless'],\n",
       "             'hooopprtty': ['phototropy'],\n",
       "             'abcnorstttu': ['obstructant'],\n",
       "             'aceeisstty': ['ceyssatite'],\n",
       "             'aabdnrr': ['barnard'],\n",
       "             'aabhilnors': ['shoalbrain'],\n",
       "             'hiinnnsy': ['ninnyish'],\n",
       "             'aceeffiilnttuy': ['ineffectuality'],\n",
       "             'beeeeeflmnnt': ['enfeeblement'],\n",
       "             'einprsst': ['spinster'],\n",
       "             'chnooprssu': ['sporochnus'],\n",
       "             'beehinopst': ['epibenthos'],\n",
       "             'aaacelopsttu': ['catapetalous'],\n",
       "             'aegginnsstuu': ['sanguisugent'],\n",
       "             'bflo': ['flob'],\n",
       "             'aelmrsst': ['tramless'],\n",
       "             'aacehirrtt': ['triarchate'],\n",
       "             'aaimnor': ['amanori', 'moarian'],\n",
       "             'acchiimorrtt': ['trichromatic'],\n",
       "             'aeeenrrstu': ['entreasure'],\n",
       "             'aefiiorrsu': ['airiferous'],\n",
       "             'ceemoprrssu': ['compressure'],\n",
       "             'aaciiilnrstt': ['inartistical'],\n",
       "             'ddeiiimsv': ['misdivide'],\n",
       "             'acnsuy': ['cyanus'],\n",
       "             'beiimnrsstu': ['subminister'],\n",
       "             'cllmou': ['collum'],\n",
       "             'deefilnoruw': ['uniflowered'],\n",
       "             'aaefnrtt': ['aftertan'],\n",
       "             'ffiruy': ['furify'],\n",
       "             'aelrsttu': ['lustrate'],\n",
       "             'bcdeeiilrru': ['irreducible'],\n",
       "             'cginoorz': ['cognizor'],\n",
       "             'aacdiimnsu': ['muscadinia'],\n",
       "             'ceemopstty': ['septectomy'],\n",
       "             'aaehimnnrt': ['anthramine'],\n",
       "             'acciiklrst': ['tricksical'],\n",
       "             'eiimmpr': ['imprime'],\n",
       "             'aelmnopst': ['entoplasm'],\n",
       "             'accimnnoott': ['concomitant'],\n",
       "             'hiimps': ['impish'],\n",
       "             'aceehlmops': ['mesocephal'],\n",
       "             'ablmnoopstu': ['postumbonal'],\n",
       "             'bceeeirrrsvy': ['serviceberry'],\n",
       "             'aacceillsty': ['ascetically'],\n",
       "             'aehlpruy': ['ephyrula'],\n",
       "             'aaabhlms': ['shambala'],\n",
       "             'aahmnosww': ['washwoman'],\n",
       "             'cimnoorstu': ['consortium'],\n",
       "             'cehooopprtt': ['photoceptor'],\n",
       "             'deinnr': ['dinner'],\n",
       "             'acdegimo': ['medicago'],\n",
       "             'bgiilnrtt': ['brittling'],\n",
       "             'aelno': ['alone', 'anole', 'olena'],\n",
       "             'ghilnoopwy': ['whoopingly'],\n",
       "             'aaclloort': ['allocator'],\n",
       "             'cdegmnoruu': ['curmudgeon'],\n",
       "             'defilmoot': ['floodtime'],\n",
       "             'ceeeilnopsstx': ['exceptionless'],\n",
       "             'eemprrstu': ['premuster'],\n",
       "             'doos': ['odso'],\n",
       "             'annoopst': ['spantoon'],\n",
       "             'airtty': ['yttria'],\n",
       "             'agnnoor': ['organon'],\n",
       "             'aeefnorrsw': ['foreanswer'],\n",
       "             'eimnosssu': ['mousiness'],\n",
       "             'eeiinnrsssst': ['sinisterness'],\n",
       "             'cdeiiinsttv': ['distinctive'],\n",
       "             'ceeegiinnprssv': ['perceivingness'],\n",
       "             'aabcehilmmt': ['immatchable'],\n",
       "             'aachiloru': ['acholuria'],\n",
       "             'aaeeprst': ['asperate', 'separate'],\n",
       "             'eeinrrst': ['inserter', 'reinsert'],\n",
       "             'aillt': ['aillt'],\n",
       "             'eeemnnooprtx': ['nonextempore'],\n",
       "             'acefiinoptt': ['pontificate'],\n",
       "             'aknp': ['knap', 'pank'],\n",
       "             'deinos': ['deinos', 'donsie', 'inodes', 'onside'],\n",
       "             'aceilnnuvy': ['univalency'],\n",
       "             'dddeefiimosst': ['eisteddfodism'],\n",
       "             'deiilqstuy': ['disquietly'],\n",
       "             'aacceilnnoosss': ['occasionalness'],\n",
       "             'dhiiilnopst': ['indophilist'],\n",
       "             'binorstw': ['brownist'],\n",
       "             'fgiijlnstuyy': ['justifyingly'],\n",
       "             'bdilruy': ['buirdly', 'ludibry'],\n",
       "             'achilmrttu': ['thalictrum'],\n",
       "             'aaachlnrt': ['charlatan'],\n",
       "             'adeerrstv': ['traversed'],\n",
       "             'bdeeeelssv': ['bevesseled'],\n",
       "             'aciillnnu': ['uniclinal'],\n",
       "             'deeimnnootu': ['unemotioned'],\n",
       "             'iprstuu': ['pursuit'],\n",
       "             'aceghinnoprru': ['unreproaching'],\n",
       "             'aaelnnnooss': ['nonseasonal'],\n",
       "             'ceeilnnpsstu': ['spinulescent'],\n",
       "             'fntu': ['funt'],\n",
       "             'eeginrr': ['rereign'],\n",
       "             'aadelnnot': ['antenodal'],\n",
       "             'acellmopsuuu': ['plumulaceous'],\n",
       "             'aceeglmnnot': ['congealment'],\n",
       "             'aadeiiilorrssty': ['arteriodialysis'],\n",
       "             'aeefilsttw': ['westfalite'],\n",
       "             'eenopty': ['neotype'],\n",
       "             'aaacchopr': ['carapacho'],\n",
       "             'beeghrrssu': ['burgheress'],\n",
       "             'eegikmmnossy': ['smokyseeming'],\n",
       "             'denopruv': ['unproved'],\n",
       "             'acgiilllo': ['illogical'],\n",
       "             'ehilru': ['heruli'],\n",
       "             'aabcccehrrt': ['crabcatcher'],\n",
       "             'aclmmotuu': ['commutual'],\n",
       "             'acfiilmopru': ['caprifolium'],\n",
       "             'adeiiinns': ['anisidine'],\n",
       "             'aceglnoooy': ['oceanology'],\n",
       "             'abbgnoo': ['babongo'],\n",
       "             'oruy': ['your'],\n",
       "             'aeeegpsw': ['sweepage'],\n",
       "             'aceefilmnt': ['maleficent'],\n",
       "             'aegllsyz': ['lazylegs'],\n",
       "             'eklnnopsuy': ['unspokenly'],\n",
       "             'aadeeiiimnprrsttv': ['preadministrative'],\n",
       "             'acehimrss': ['sarsechim'],\n",
       "             'aenoprt': ['operant', 'pronate', 'protean'],\n",
       "             'aacdiiilmnnotu': ['adminiculation'],\n",
       "             'eeillnoqssstuy': ['questionlessly'],\n",
       "             'ahnoprstyy': ['asyntrophy'],\n",
       "             'abefiiimnr': ['fibrinemia'],\n",
       "             'aaru': ['aaru', 'aura'],\n",
       "             'abklu': ['bulak'],\n",
       "             'aacceimnstu': ['succinamate'],\n",
       "             'aacilnoty': ['acylation', 'claytonia'],\n",
       "             'ceegikllnops': ['glockenspiel'],\n",
       "             'eeiilnootuvz': ['evolutionize'],\n",
       "             'fgnsuuy': ['fungusy'],\n",
       "             'beeinrstuuvv': ['unsubvertive'],\n",
       "             'aeeehilmmnprt': ['penthemimeral'],\n",
       "             'abchnry': ['branchy'],\n",
       "             'abdhooprs': ['shopboard'],\n",
       "             'elmrtuy': ['elytrum'],\n",
       "             'abddeeensss': ['debasedness'],\n",
       "             'eefginrr': ['fingerer', 'refinger'],\n",
       "             'abceeiillnnorv': ['overinclinable'],\n",
       "             'adeeillnnpuxy': ['unexplainedly'],\n",
       "             'aaiinrsstt': ['sanitarist'],\n",
       "             'degiilnnpssy': ['dispensingly'],\n",
       "             'cehimmooprs': ['mesomorphic'],\n",
       "             'dgimnpu': ['dumping'],\n",
       "             'cdeennstu': ['unscented'],\n",
       "             'aehloopprsttu': ['protosulphate'],\n",
       "             'eilmtx': ['mexitl'],\n",
       "             'beorw': ['bower'],\n",
       "             'aaceeghilnopst': ['stegocephalian'],\n",
       "             'acdehorrtyy': ['cryohydrate'],\n",
       "             'aggilnopy': ['playgoing'],\n",
       "             'aaccehhillmnoopty': ['photomechanically'],\n",
       "             'bbeelrrsu': ['slubberer'],\n",
       "             'ccehnnoos': ['sconcheon'],\n",
       "             'abeeilm': ['embelia'],\n",
       "             'ceeelnpss': ['penceless'],\n",
       "             'acenooprtt': ['entoprocta'],\n",
       "             'chnosu': ['snouch'],\n",
       "             'aacddillny': ['dandically'],\n",
       "             'aemm': ['emma'],\n",
       "             'aaciillnprtuy': ['puritanically'],\n",
       "             'cdeeemnsssu': ['scenedesmus'],\n",
       "             'cfiin': ['nific'],\n",
       "             'eeehkopprsy': ['shopkeepery'],\n",
       "             'acgiooprtv': ['vagotropic'],\n",
       "             'aejmmnrtuu': ['juramentum'],\n",
       "             'cdeirs': ['scride'],\n",
       "             'deeilopprssy': ['polydisperse'],\n",
       "             'cdeeeflprty': ['perfectedly'],\n",
       "             'adeeelnpsss': ['pleasedness'],\n",
       "             'aceeinnnoopttx': ['nonexpectation'],\n",
       "             'aehitvy': ['heavity'],\n",
       "             'ceimrtuu': ['teucrium'],\n",
       "             'aaiilmnnr': ['laminarin', 'linamarin'],\n",
       "             'eirrttw': ['writter'],\n",
       "             'ffot': ['toff'],\n",
       "             'accinsstty': ['syntactics'],\n",
       "             'aadelln': ['lealand'],\n",
       "             'eeeefglnnrssuv': ['revengefulness'],\n",
       "             'eillosss': ['soilless'],\n",
       "             'dehilooppst': ['philodespot'],\n",
       "             'agntuy': ['gaunty'],\n",
       "             'ceehimmooor': ['homoeomeric'],\n",
       "             'iknor': ['korin'],\n",
       "             'adghoopr': ['odograph'],\n",
       "             'acghilno': ['ichoglan'],\n",
       "             'accillor': ['corallic'],\n",
       "             'aaccel': ['caecal'],\n",
       "             'acehiipsstuv': ['sivapithecus'],\n",
       "             'aaccilnott': ['octactinal'],\n",
       "             'aadiips': ['adipsia'],\n",
       "             'ennoopprrstu': ['nonsupporter'],\n",
       "             'cehhmooppstyyy': ['hypophysectomy'],\n",
       "             'abdeeills': ['slideable'],\n",
       "             'diiimru': ['iridium'],\n",
       "             'ghilnrruyy': ['hurryingly'],\n",
       "             'ahilqrssuy': ['squarishly'],\n",
       "             'aakpw': ['kwapa'],\n",
       "             'ceeefnoqrruvy': ['overfrequency'],\n",
       "             'cimmnoot': ['monomict'],\n",
       "             'denopstw': ['stewpond'],\n",
       "             'aioppprsuu': ['pupiparous'],\n",
       "             'aginnsuv': ['unsaving'],\n",
       "             'deeginnrsuv': ['undeserving'],\n",
       "             'aaegillpru': ['pleuralgia'],\n",
       "             'finopty': ['pontify'],\n",
       "             'acehorrs': ['cosharer', 'horsecar'],\n",
       "             'aeeglrsst': ['grateless'],\n",
       "             'aacgiillloopprty': ['plagiotropically'],\n",
       "             'aceinnnty': ['intenancy'],\n",
       "             'aaccghnooprsu': ['cancrophagous'],\n",
       "             'aaacceghilnoopr': ['oceanographical'],\n",
       "             'acceiinnor': ['ciceronian'],\n",
       "             'eeegiknps': ['pekingese'],\n",
       "             'abccinorstu': ['obscurantic', 'subnarcotic'],\n",
       "             'bdopsuy': ['spudboy'],\n",
       "             'aciijmorst': ['majoristic'],\n",
       "             'aeilmoprrs': ['prorealism'],\n",
       "             'aacekkmrs': ['sackmaker'],\n",
       "             'eeilrstuv': ['resultive'],\n",
       "             'acdginr': ['carding'],\n",
       "             'deehilllsssy': ['shieldlessly'],\n",
       "             'cehhttu': ['hutchet'],\n",
       "             'aceghimmnoort': ['magnochromite'],\n",
       "             'aaadeeinnrss': ['adessenarian'],\n",
       "             'adenotuy': ['autodyne'],\n",
       "             'ejtu': ['jute', 'teju'],\n",
       "             'bddhimsu': ['buddhism'],\n",
       "             'aeehnoprrtuy': ['neurotherapy'],\n",
       "             'dghiilpsu': ['guildship'],\n",
       "             'aekkmnrrtu': ['trunkmaker'],\n",
       "             'abghiinrt': ['gainbirth'],\n",
       "             'cccdiily': ['dicyclic'],\n",
       "             'eeehiinprsstvy': ['hypersensitive'],\n",
       "             'aceegmmnnoorr': ['romancemonger'],\n",
       "             'ainoopstx': ['sapotoxin'],\n",
       "             'enos': ['enos', 'nose'],\n",
       "             'eginos': ['geison', 'isogen'],\n",
       "             'chrssu': ['scrush'],\n",
       "             'abceeinorrrz': ['recarbonizer'],\n",
       "             'aacdegiklmnn': ['candlemaking'],\n",
       "             'eiimrstv': ['veritism'],\n",
       "             'acehlmorsy': ['lachrymose'],\n",
       "             'aaehlmnw': ['whaleman'],\n",
       "             'bbennorssstu': ['stubbornness'],\n",
       "             'aboosttu': ['outboast'],\n",
       "             'aaghlnstu': ['galanthus'],\n",
       "             'beehoov': ['behoove'],\n",
       "             'aeiillnnors': ['alniresinol'],\n",
       "             'bceeimnopry': ['epembryonic'],\n",
       "             'cdeeeiiinnsssv': ['indecisiveness'],\n",
       "             'ddhiiinnort': ['dinornithid'],\n",
       "             'ceeegimnort': ['merogenetic'],\n",
       "             'bgilmnnuy': ['numbingly'],\n",
       "             'accimnos': ['moccasin'],\n",
       "             'adeeilmoprsu': ['superomedial'],\n",
       "             'abcchii': ['bacchii'],\n",
       "             'cdeeiimnnss': ['misincensed'],\n",
       "             'cddeeiiinprrt': ['peridendritic'],\n",
       "             'aabcemrv': ['vambrace'],\n",
       "             'cehiiilst': ['cheilitis'],\n",
       "             'aeegjtt': ['jettage'],\n",
       "             'cehiimpt': ['mephitic'],\n",
       "             'cmoosu': ['comous'],\n",
       "             'aeiimoprrrttu': ['importraiture'],\n",
       "             'eooprrs': ['spoorer'],\n",
       "             'acehstu': ['huastec'],\n",
       "             'aeikkllnp': ['planklike'],\n",
       "             'aclo': ['alco', 'coal', 'cola', 'loca'],\n",
       "             'chhiinoottxy': ['ichthyotoxin'],\n",
       "             'bbdeeegirrt': ['bredbergite'],\n",
       "             'efiry': ['fiery', 'reify'],\n",
       "             'aegilmru': ['glaumrie'],\n",
       "             'aaehmnsw': ['hawseman'],\n",
       "             'enoppry': ['propyne', 'pyropen'],\n",
       "             'aeegp': ['peage'],\n",
       "             'afhioprstu': ['fautorship'],\n",
       "             'biiknrs': ['ribskin'],\n",
       "             'beemmr': ['member'],\n",
       "             'aelpstt': ['peltast', 'spattle'],\n",
       "             'aabcrsu': ['carabus'],\n",
       "             'abcciiilllooss': ['colibacillosis'],\n",
       "             'aaabillry': ['barylalia'],\n",
       "             'acdiilnnnootu': ['unconditional'],\n",
       "             'hhoopps': ['phospho'],\n",
       "             'accdeeiinrst': ['centriscidae'],\n",
       "             'acghinoottx': ['toxicognath'],\n",
       "             'efflpru': ['pluffer'],\n",
       "             'aaoopptt': ['topatopa'],\n",
       "             'aceghnru': ['gunreach', 'uncharge'],\n",
       "             'aeiinnnortt': ['internation'],\n",
       "             'aaahiklnotu': ['anakoluthia'],\n",
       "             'abeeehinpsst': ['absenteeship'],\n",
       "             'dgilruy': ['guildry'],\n",
       "             'acdhillooortxy': ['orthodoxically'],\n",
       "             'lmnnoossuyyy': ['synonymously'],\n",
       "             'abciru': ['brucia'],\n",
       "             'ailortuv': ['outrival'],\n",
       "             'aaiinotx': ['axiation'],\n",
       "             'aaceeimmos': ['mimosaceae'],\n",
       "             'aeeiilnnnostx': ['inextensional'],\n",
       "             'aeeghilmnoorrttu': ['thermoregulation'],\n",
       "             'cdeeinnsu': ['secundine'],\n",
       "             'eeeegimnooorrstt': ['stereogoniometer'],\n",
       "             'cchhoprru': ['prochurch'],\n",
       "             'abdeellopx': ['explodable'],\n",
       "             'aabccmnsu': ['cambuscan'],\n",
       "             'ceeefflsst': ['effectless'],\n",
       "             'ceiinorstt': ['trisection'],\n",
       "             'adeehilmnotty': ['demethylation'],\n",
       "             'iilnnop': ['pinolin'],\n",
       "             'aacdeiillmnoopsu': ['nucleoidioplasma'],\n",
       "             'adeilnopu': ['aneuploid'],\n",
       "             'eloprs': ['sloper', 'splore'],\n",
       "             'abefhils': ['fishable'],\n",
       "             'aehimnoprtz': ['phantomizer'],\n",
       "             'ceehimnnooprs': ['comprehension'],\n",
       "             'aeggios': ['isagoge'],\n",
       "             'aagipssty': ['paysagist'],\n",
       "             'eeeiimnnnrtttw': ['intertwinement'],\n",
       "             'fgiiilnostuy': ['fuliginosity'],\n",
       "             'aabbeeehlqtu': ['bequeathable'],\n",
       "             'aaceegghhillnooprty': ['ethnogeographically'],\n",
       "             'ceiillnostuy': ['licentiously'],\n",
       "             'aaaelnoprsty': ['anaeroplasty'],\n",
       "             'aabbelloprs': ['probaseball'],\n",
       "             'aeennoprtx': ['xenopteran'],\n",
       "             'bkorsuwy': ['busywork'],\n",
       "             'acehlloopr': ['prealcohol'],\n",
       "             'aceiiinoosttuvv': ['autovivisection'],\n",
       "             'aadeeiirst': ['asteriidae'],\n",
       "             'cdeiilnnnu': ['uninclined'],\n",
       "             'ainrv': ['invar', 'ravin', 'vanir'],\n",
       "             'abcceikloot': ['tobaccolike'],\n",
       "             'aaacehiilnpttt': ['antipathetical'],\n",
       "             'gimotu': ['gomuti'],\n",
       "             'ccehnossst': ['scotchness'],\n",
       "             'ccehiimorz': ['chromicize'],\n",
       "             'ahimms': ['shamim'],\n",
       "             'aaabhlrst': ['balthasar'],\n",
       "             'abcekn': ['backen', 'neback'],\n",
       "             'aloopyz': ['polyzoa'],\n",
       "             'aaabdkkru': ['darabukka'],\n",
       "             'cennostt': ['contents'],\n",
       "             'bcgiiillmnooo': ['limnobiologic'],\n",
       "             'aehimmoosstyz': ['hematozymosis'],\n",
       "             'ceistx': ['sextic'],\n",
       "             'degmu': ['degum'],\n",
       "             'acdiiinoosst': ['dissociation'],\n",
       "             'abeiiprtt': ['bipartite'],\n",
       "             'giilnnou': ['unoiling'],\n",
       "             'acmnorsy': ['socmanry'],\n",
       "             'abeiknosz': ['baskonize'],\n",
       "             'bdi': ['bid', 'dib'],\n",
       "             'abiiilnnnstttu': ['tintinnabulist'],\n",
       "             'eflu': ['flue', 'fuel'],\n",
       "             'aacjkss': ['jackass'],\n",
       "             'aacceehhiloppprrsy': ['hyperarchepiscopal'],\n",
       "             'aeelmuxy': ['myelauxe'],\n",
       "             'aabeiiillrtyz': ['realizability'],\n",
       "             'cceimot': ['cometic'],\n",
       "             'ceeimorstv': ['semivector', 'viscometer'],\n",
       "             'abdhilns': ['blandish'],\n",
       "             'aadghillmoty': ['amygdalolith'],\n",
       "             'abcelstuuy': ['subacutely'],\n",
       "             'celorv': ['clover'],\n",
       "             'aaaccghilmoz': ['chalazogamic'],\n",
       "             'addeenotu': ['duodenate'],\n",
       "             'aahknnoty': ['anthokyan'],\n",
       "             'bceehikosttu': ['kotschubeite'],\n",
       "             'aachiilooprst': ['holoparasitic'],\n",
       "             'aeiimprss': ['mispraise'],\n",
       "             'aaclmnooprsuy': ['paramyoclonus'],\n",
       "             'ffginoooprrst': ['frostproofing'],\n",
       "             'aadillprstu': ['plastidular'],\n",
       "             'cdehlopru': ['cupholder'],\n",
       "             'adeenpps': ['sandpeep'],\n",
       "             'celmorstty': ['metroclyst'],\n",
       "             'acdlorwy': ['cowardly'],\n",
       "             'aacloppsstu': ['postscapula'],\n",
       "             'aaccehhilmoooprttt': ['phototachometrical'],\n",
       "             'aginost': ['agonist'],\n",
       "             'aeehiimnnopprss': ['misapprehension'],\n",
       "             'aadeelnnrttu': ['unalternated'],\n",
       "             'cghiimooprtt': ['thigmotropic'],\n",
       "             'acegiiiilnopss': ['silicispongiae'],\n",
       "             'adeegiooprstt': ['protostegidae'],\n",
       "             'eemnooy': ['mooneye'],\n",
       "             'eefgnorsst': ['forgetness'],\n",
       "             'ilptuy': ['tulipy'],\n",
       "             'accgiiloorst': ['caricologist'],\n",
       "             'aaachipprrst': ['paraphrastic'],\n",
       "             'aefhlrtu': ['heartful'],\n",
       "             'acdeloow': ['lacewood'],\n",
       "             'aacdehiry': ['hyracidae'],\n",
       "             'imooprsstu': ['impostrous'],\n",
       "             'bchikllosy': ['blockishly'],\n",
       "             'bcery': ['becry', 'bryce'],\n",
       "             'aeiptw': ['tawpie'],\n",
       "             'aabcchiimorst': ['basichromatic'],\n",
       "             'aggiinv': ['gingiva'],\n",
       "             'ddgooow': ['dogwood'],\n",
       "             'abefillo': ['foilable'],\n",
       "             'adeegimort': ['diagometer'],\n",
       "             'aceiopstv': ['vitascope'],\n",
       "             'cceenort': ['concrete'],\n",
       "             'aaiinnnotz': ['nanization'],\n",
       "             'acccdeiilmoop': ['diplococcemia'],\n",
       "             'aaddeiinnorrt': ['nonirradiated'],\n",
       "             'aciilmoopttyy': ['polyatomicity'],\n",
       "             'cdiinopsuy': ['cynipidous'],\n",
       "             'aablln': ['ballan'],\n",
       "             'ginorstuy': ['trigynous'],\n",
       "             'acceiimnort': ['actinomeric'],\n",
       "             'eehiklnrtu': ['hunterlike'],\n",
       "             'achlmyy': ['alchymy'],\n",
       "             'aacceehhlmpsu': ['chamecephalus'],\n",
       "             'aceghiinoprrty': ['chiropterygian'],\n",
       "             'bginoorrw': ['borrowing'],\n",
       "             'abbdhu': ['dubbah'],\n",
       "             'aabdln': ['blanda'],\n",
       "             'aabcehimorrrttu': ['arthrobacterium'],\n",
       "             'aelmopu': ['ampoule'],\n",
       "             'acilmorst': ['clamorist', 'crotalism'],\n",
       "             'acddeghilnprst': ['stepgrandchild'],\n",
       "             'aaacirs': ['acrasia'],\n",
       "             'aadegilnsttvy': ['devastatingly'],\n",
       "             'aceiprrstu': ['crispature'],\n",
       "             'aaghiilnno': ['haligonian'],\n",
       "             'klnru': ['knurl'],\n",
       "             'bceikk': ['bekick'],\n",
       "             'ffiqu': ['quiff'],\n",
       "             'aaceeiilnpprtuvy': ['unappreciatively'],\n",
       "             'eeelprtty': ['teletyper'],\n",
       "             'bccdeiiimor': ['microbicide'],\n",
       "             'abeeeillnrss': ['reliableness'],\n",
       "             'aclnsuu': ['lucanus'],\n",
       "             'bckoostw': ['stockbow'],\n",
       "             'bcekpru': ['purbeck'],\n",
       "             'aaceiilnopps': ['episcopalian'],\n",
       "             'acelmmnostuy': ['consummately'],\n",
       "             'aegrst': ['gaster', 'stager'],\n",
       "             'ainooprsstw': ['passionwort'],\n",
       "             'acccehioorsu': ['cichoraceous'],\n",
       "             'ahiiijknrs': ['jinrikisha'],\n",
       "             'aeeeimnooprrtu': ['aeroperitoneum'],\n",
       "             'aabimors': ['ambrosia', 'saboraim'],\n",
       "             'abdeeiklms': ['semibalked'],\n",
       "             'aacefhilorsuz': ['chalaziferous'],\n",
       "             'aehimmnp': ['memphian'],\n",
       "             'aeiilnooprttz': ['petrolization'],\n",
       "             'abeilntu': ['antiblue', 'nubilate'],\n",
       "             'aaeghmnorrstuy': ['argyranthemous'],\n",
       "             'aaacdeimnot': ['diatomacean'],\n",
       "             'ceeeinrstw': ['centerwise'],\n",
       "             'cdenorw': ['crowned', 'decrown'],\n",
       "             'abiiinnostu': ['bisinuation'],\n",
       "             'aeehnrttu': ['ruthenate'],\n",
       "             'dgnnoo': ['dongon', 'nongod'],\n",
       "             'cccnooou': ['coconuco'],\n",
       "             'aceghillnoot': ['allothogenic', 'ethnological'],\n",
       "             'egilmnosuu': ['leguminous'],\n",
       "             'aaceiimnoottx': ['actinotoxemia'],\n",
       "             'eimpstu': ['impetus', 'upsmite'],\n",
       "             'ceiilopstx': ['postexilic'],\n",
       "             'aciiimnnnooprstu': ['mispronunciation'],\n",
       "             'eehhnoopstt': ['stethophone'],\n",
       "             'deeiinnnprv': ['pinninerved'],\n",
       "             'ehiinoooprsst': ['iontophoresis'],\n",
       "             'aeehioorstu': ['heteroousia'],\n",
       "             'aeeegmmortty': ['metageometry'],\n",
       "             'adiillossty': ['disloyalist'],\n",
       "             'aeeiilnnnnpp': ['planipennine'],\n",
       "             'aaccdeiirs': ['ascaricide'],\n",
       "             'ciilsu': ['siculi'],\n",
       "             'ccellnooy': ['colonelcy'],\n",
       "             'hikoorsu': ['kuroshio'],\n",
       "             'aabdeimrtuv': ['adumbrative'],\n",
       "             'ademoortww': ['meadowwort'],\n",
       "             'acdghhnooprry': ['chondrography'],\n",
       "             'ainptw': ['patwin'],\n",
       "             'allow': ['allow'],\n",
       "             'aahilstw': ['washtail'],\n",
       "             'emmnottu': ['tomentum'],\n",
       "             'adeiiikmnrstuu': ['mitsukurinidae'],\n",
       "             'aabcehillpsty': ['heptasyllabic'],\n",
       "             'aostu': ['aotus'],\n",
       "             'aabceeklnrrt': ['rackrentable'],\n",
       "             'aeefhimnnorst': ['refashionment'],\n",
       "             'aaadiiinnoprstz': ['spaniardization'],\n",
       "             'acchhiimoooprrttt': ['phototrichromatic'],\n",
       "             'bdegirr': ['bridger'],\n",
       "             'acefiiiiimnorsttv': ['semivitrification'],\n",
       "             'aehirrr': ['harrier'],\n",
       "             'ainprv': ['pravin'],\n",
       "             'acceeinopprt': ['coapprentice'],\n",
       "             'aceghhiilopr': ['heliographic'],\n",
       "             'abcdeiipstu': ['bicuspidate'],\n",
       "             'elosxy': ['lyxose', 'xylose'],\n",
       "             'adehlmnnooopry': ['hydromonoplane'],\n",
       "             'cdeeeilnrsst': ['derelictness'],\n",
       "             'acceeipt': ['catpiece'],\n",
       "             'aeeehorvv': ['overheave'],\n",
       "             'adeeinooopst': ['osteopaedion'],\n",
       "             'hinoorsuxy': ['oxyrhinous'],\n",
       "             'eehlmoort': ['holometer'],\n",
       "             'aacinoprt': ['paratonic'],\n",
       "             'aainost': ['antaios'],\n",
       "             'aclpst': ['claspt'],\n",
       "             'aceillmn': ['camellin'],\n",
       "             'eemorrtu': ['outremer', 'urometer'],\n",
       "             'egmoot': ['goemot'],\n",
       "             'dfiimoort': ['otidiform'],\n",
       "             'aacccehiiopprsy': ['archiepiscopacy'],\n",
       "             'bimmoos': ['imbosom'],\n",
       "             'eglooorz': ['zoologer'],\n",
       "             'eeeiinnrttvv': ['interventive'],\n",
       "             'aaghnuy': ['guhayna'],\n",
       "             'aaeiillnrrtxy': ['interaxillary'],\n",
       "             'acfiiinoosst': ['ossification'],\n",
       "             'aacdeehmooorsu': ['haemodoraceous'],\n",
       "             'accdehiiorstuy': ['chytridiaceous'],\n",
       "             'cceeeejnnsuv': ['juvenescence'],\n",
       "             'aeegiilloprstv': ['prolegislative'],\n",
       "             'eeginnnrstu': ['unresenting'],\n",
       "             'abeeilnopsx': ['inexposable'],\n",
       "             'einnorrt': ['nontrier'],\n",
       "             'abelmosst': ['mesoblast'],\n",
       "             'bcu': ['cub'],\n",
       "             'cehlnoorstu': ['holocentrus'],\n",
       "             'eiinnrtv': ['invertin'],\n",
       "             'ceeeilprstvy': ['respectively'],\n",
       "             'chity': ['itchy'],\n",
       "             'errsttu': ['retrust', 'truster'],\n",
       "             'aaeiilmmnnnoottuz': ['monumentalization'],\n",
       "             'aacegghillooopryz': ['zoogeographically'],\n",
       "             'aciilnnooprrttty': ['nonprotractility'],\n",
       "             'aabbeiinortv': ['abbreviation'],\n",
       "             'aaemnpp': ['pampean'],\n",
       "             'egorruy': ['roguery'],\n",
       "             'aacchiimorrtt': ['arithmocratic'],\n",
       "             'acdemnopssu': ['uncompassed'],\n",
       "             'eeilnoprsttuy': ['pretentiously'],\n",
       "             'aabdiilnps': ['albaspidin'],\n",
       "             'aaaeiilnoprrt': ['arterioplania'],\n",
       "             'adegilnooprtt': ['proglottidean'],\n",
       "             'abceilnnrsuy': ['incensurably'],\n",
       "             'aceeiilpt': ['tailpiece'],\n",
       "             'aefglooprr': ['glareproof'],\n",
       "             'aceiilnoptx': ['explication'],\n",
       "             'cdiilpprsuu': ['pluricuspid'],\n",
       "             'hknsu': ['hunks'],\n",
       "             'deghnnruu': ['underhung'],\n",
       "             'aciiloopprsst': ['polariscopist'],\n",
       "             'aaaegiloprrstt': ['gastroparietal'],\n",
       "             'aeeghiklmn': ['heelmaking'],\n",
       "             'cinorsuu': ['cinurous'],\n",
       "             'abellotw': ['betallow'],\n",
       "             'accelprrsuu': ['crepuscular'],\n",
       "             'dery': ['dyer', 'yerd'],\n",
       "             'egillnnsu': ['unselling'],\n",
       "             'aklprsy': ['sparkly'],\n",
       "             'dghiloprtyy': ['tyroglyphid'],\n",
       "             'ceehhioorrsttu': ['heterotrichous'],\n",
       "             'adgiinry': ['dairying'],\n",
       "             'ceeilrstyz': ['clysterize'],\n",
       "             'aaceinnnootvx': ['nonexcavation'],\n",
       "             'cfisu': ['ficus'],\n",
       "             'aabelnn': ['annabel'],\n",
       "             'bciknrsuw': ['brunswick'],\n",
       "             'addeegnnru': ['undangered', 'underanged', 'ungardened'],\n",
       "             'aachimntx': ['xanthamic'],\n",
       "             'aaeegginnnoortx': ['nonexaggeration'],\n",
       "             'aacoorrtttu': ['autotractor'],\n",
       "             'eopsstu': ['stupose'],\n",
       "             'deilllpuv': ['pulldevil'],\n",
       "             'acelnsu': ['censual', 'unscale'],\n",
       "             'aabbhhst': ['shabbath'],\n",
       "             'abdehilnsstu': ['unstablished'],\n",
       "             'aceelnrst': ['centrales'],\n",
       "             'afgllruy': ['frugally'],\n",
       "             'aelmnorsuuv': ['unmarvelous'],\n",
       "             'abcegilnnnooz': ['noncognizable'],\n",
       "             'bdeelnootu': ['doubletone'],\n",
       "             'aabccdilnnorttuy': ['uncontradictably'],\n",
       "             'aacimottu': ['automatic'],\n",
       "             'acehlmrss': ['charmless'],\n",
       "             'ceilpruu': ['purlicue'],\n",
       "             'aadlmnn': ['landman'],\n",
       "             'aeeimnopprstttu': ['supertemptation'],\n",
       "             'aceghillmorrtyy': ['hygrometrically'],\n",
       "             'cccceegoorstuy': ['rectococcygeus'],\n",
       "             'defhlllmotuuy': ['fullmouthedly'],\n",
       "             'aaciiinnrssu': ['uncinariasis'],\n",
       "             'aeghmooopssty': ['esophagostomy'],\n",
       "             'imnnow': ['minnow'],\n",
       "             'aacdssy': ['cassady'],\n",
       "             'adginu': ['anguid', 'gaduin'],\n",
       "             'ceehiioprrtt': ['chiropterite'],\n",
       "             'aagiiimnnsstuu': ['augustinianism'],\n",
       "             'aegiin': ['naigie'],\n",
       "             'aceflmorsu': ['mesofurcal'],\n",
       "             'adeeeeimnprrtt': ['predeterminate'],\n",
       "             'cemorsuy': ['uromyces'],\n",
       "             'ceeeegiptx': ['epexegetic'],\n",
       "             'ddeenoppprru': ['underpropped'],\n",
       "             'aejn': ['jane', 'jean'],\n",
       "             'aaaeiilllmnoptx': ['maxillopalatine'],\n",
       "             'acoryz': ['coryza'],\n",
       "             'acdeiino': ['dioecian'],\n",
       "             'acceiopr': ['cecropia'],\n",
       "             'acemor': ['ceroma', 'corema'],\n",
       "             'eghqu': ['quegh'],\n",
       "             'acghin': ['aching'],\n",
       "             'gknu': ['gunk', 'kung'],\n",
       "             'aacceellpprrw': ['clapperclawer'],\n",
       "             'adeegilmn': ['demiangel'],\n",
       "             'aceilvw': ['wavicle'],\n",
       "             'ahikns': ['naskhi'],\n",
       "             'abkmnorsuw': ['subworkman'],\n",
       "             'aeiilmmorz': ['immoralize'],\n",
       "             'eflortt': ['fortlet'],\n",
       "             'abbeeilmprrtu': ['imperturbable'],\n",
       "             'addeiooppsu': ['pseudopodia'],\n",
       "             'ddeefoor': ['deerfood'],\n",
       "             'aceilmnrst': ['centralism'],\n",
       "             'abllloost': ['stoolball'],\n",
       "             'adeehinsst': ['deathiness'],\n",
       "             'aaccehillmrsv': ['clishmaclaver'],\n",
       "             'eghinooorstv': ['oversoothing'],\n",
       "             'ddeeeeimoprrstv': ['overdistempered'],\n",
       "             'cdeimoprsu': ['misproduce'],\n",
       "             'booz': ['bozo', 'zobo'],\n",
       "             'eginnrstu': ['insurgent', 'unresting'],\n",
       "             'aaccdeeiorr': ['acroceridae'],\n",
       "             'hhloppsy': ['phosphyl'],\n",
       "             'adeelnpqrssuu': ['quadrupleness'],\n",
       "             'dginorsw': ['swording'],\n",
       "             'adeeehiptz': ['dehepatize'],\n",
       "             'aahhilmprss': ['marshalship'],\n",
       "             'aacegilnpry': ['panegyrical'],\n",
       "             'bcdeipru': ['bridecup'],\n",
       "             'iillmoostu': ['mollitious'],\n",
       "             'chsu': ['cush', 'such'],\n",
       "             'adeefhnrtu': ['unfathered'],\n",
       "             'ceillnoprtu': ['pollincture'],\n",
       "             'adklry': ['darkly'],\n",
       "             'accehhiilopsty': ['ethicophysical'],\n",
       "             'aenoprsttt': ['protestant'],\n",
       "             'behinop': ['hipbone', 'hopbine'],\n",
       "             'aaegillmnt': ['ligamental'],\n",
       "             'aceeilnopu': ['leucopenia'],\n",
       "             'aaceimnot': ['coanimate'],\n",
       "             'demooppru': ['propodeum'],\n",
       "             'achlmmooors': ['chromosomal'],\n",
       "             'aadegiiillns': ['sillaginidae'],\n",
       "             'abdeilmor': ['bromeliad'],\n",
       "             'eeoprstv': ['overstep'],\n",
       "             'adeimmn': ['demiman'],\n",
       "             'abcilorru': ['courbaril', 'orbicular'],\n",
       "             'acdeioors': ['dioscorea'],\n",
       "             'eeeehlmnoprt': ['nephelometer'],\n",
       "             'acemry': ['creamy'],\n",
       "             'aceenoprtvw': ['carpetwoven'],\n",
       "             'aaeiknnprt': ['prekantian'],\n",
       "             'eeimnstuz': ['mezentius'],\n",
       "             'aghhlnopt': ['phthongal'],\n",
       "             'aeeimnooprst': ['anisometrope'],\n",
       "             'adelnnorr': ['norlander'],\n",
       "             'aillosv': ['salviol'],\n",
       "             'efgilmnoort': ['montgolfier'],\n",
       "             'aceeeilmnpt': ['mantelpiece'],\n",
       "             'ddghilnu': ['huddling'],\n",
       "             'aaaeilnnorttx': ['extranational'],\n",
       "             'adeiilmsstu': ['dissimulate'],\n",
       "             'beinort': ['bornite', 'robinet'],\n",
       "             'achillopy': ['philocaly'],\n",
       "             'aiorss': ['aissor', 'rissoa'],\n",
       "             'aaeelmmrt': ['metameral'],\n",
       "             'fiklnsu': ['skinful'],\n",
       "             'adeehlmnott': ['mentholated'],\n",
       "             'aailnprtu': ['tarpaulin', 'unpartial'],\n",
       "             'aaceeeegnrs': ['gesneraceae'],\n",
       "             'eiinprrst': ['perrinist'],\n",
       "             'ailmtt': ['titmal'],\n",
       "             'eopprsttuuu': ['superoutput'],\n",
       "             'aaccceeehhhllnooorxxy': ['hexachlorocyclohexane'],\n",
       "             'bdegoruw': ['budgerow'],\n",
       "             'achilrssy': ['chrysalis'],\n",
       "             'acdeiimrty': ['acidimetry'],\n",
       "             'abehooprrttyy': ['botryotherapy'],\n",
       "             'ceginoprstttuu': ['cuprotungstite'],\n",
       "             'elstty': ['stylet'],\n",
       "             'hiilnsy': ['shinily'],\n",
       "             'aeehiooprtt': ['heterotopia'],\n",
       "             'aeeiilopprrss': ['perisporiales'],\n",
       "             'acdehhmnoort': ['merchanthood'],\n",
       "             'deeiinrsstt': ['disinterest'],\n",
       "             'eegmnoos': ['gonesome', 'osmogene'],\n",
       "             'acilmrstuuy': ['muscularity'],\n",
       "             'ccijnnnootu': ['conjunction'],\n",
       "             'eeeiprrssv': ['repressive', 'respersive'],\n",
       "             'abciiillnptuy': ['inculpability'],\n",
       "             'adeghinoorsvw': ['overshadowing'],\n",
       "             'accehmnossttuyy': ['cystenchymatous'],\n",
       "             'efloor': ['refool'],\n",
       "             'fiklrsu': ['riskful'],\n",
       "             'ddehinnu': ['unhidden'],\n",
       "             'beeilortt': ['briolette'],\n",
       "             'aaeghhooopprrty': ['aerophotography'],\n",
       "             'bceeiinoprrttuv': ['precontributive'],\n",
       "             'cehilnopstty': ['polytechnist'],\n",
       "             'cdeersuvwy': ['scurvyweed'],\n",
       "             'aelopprsssst': ['passportless'],\n",
       "             'bcfimoorsuu': ['fibromucous', 'mucofibrous'],\n",
       "             'deeghow': ['hogweed'],\n",
       "             'dhiooorsttuw': ['withoutdoors'],\n",
       "             'aceefghhiinrsttt': ['featherstitching'],\n",
       "             'aaipv': ['pavia'],\n",
       "             'beinoryz': ['byronize'],\n",
       "             'aelmoptt': ['palmetto'],\n",
       "             'aabeglnottw': ['battlewagon'],\n",
       "             'einquu': ['unique'],\n",
       "             'eeillrssssty': ['resistlessly'],\n",
       "             'abcdeelrttuu': ['tuberculated'],\n",
       "             'acglnoo': ['cogonal'],\n",
       "             'acegillotu': ['glaucolite'],\n",
       "             'bcceilnos': ['sconcible'],\n",
       "             'bceloor': ['becolor'],\n",
       "             'bcimsu': ['cubism'],\n",
       "             'ddefhlnoru': ['fundholder'],\n",
       "             'dehiklorsu': ['shroudlike'],\n",
       "             'aaacegillnnoss': ['analogicalness'],\n",
       "             'aeekmorstv': ['stovemaker'],\n",
       "             'aost': ['oast', 'stoa', 'taos'],\n",
       "             'deeux': ['exude'],\n",
       "             'adilmnors': ['ladronism'],\n",
       "             'ccdeiinoprsttuuvy': ['superconductivity'],\n",
       "             'denu': ['dune', 'nude', 'unde'],\n",
       "             'iloorsuuxy': ['uxoriously'],\n",
       "             'aegiimnoostz': ['angiostomize'],\n",
       "             ...})"
      ]
     },
     "execution_count": 84,
     "metadata": {},
     "output_type": "execute_result"
    }
   ],
   "source": [
    "words_sig"
   ]
  },
  {
   "cell_type": "code",
   "execution_count": 85,
   "metadata": {
    "collapsed": true
   },
   "outputs": [],
   "source": [
    "def anagram_fast(myword):\n",
    "    return words_sig[signature(myword)]"
   ]
  },
  {
   "cell_type": "code",
   "execution_count": 86,
   "metadata": {
    "collapsed": false
   },
   "outputs": [
    {
     "data": {
      "text/plain": [
       "['dictionary', 'indicatory']"
      ]
     },
     "execution_count": 86,
     "metadata": {},
     "output_type": "execute_result"
    }
   ],
   "source": [
    "anagram_fast(\"dictionary\")"
   ]
  },
  {
   "cell_type": "code",
   "execution_count": 87,
   "metadata": {
    "collapsed": false
   },
   "outputs": [
    {
     "name": "stdout",
     "output_type": "stream",
     "text": [
      "1 loop, best of 3: 554 ms per loop\n"
     ]
    }
   ],
   "source": [
    "%timeit anagram_all = {word: anagram_fast(word) for word in wordlist if len(anagram_fast(word)) > 1}\n"
   ]
  },
  {
   "cell_type": "code",
   "execution_count": 95,
   "metadata": {
    "collapsed": false
   },
   "outputs": [],
   "source": [
    "anagram_all = {word: anagram_fast(word) for word in wordlist if len(anagram_fast(word)) > 1}"
   ]
  },
  {
   "cell_type": "code",
   "execution_count": 96,
   "metadata": {
    "collapsed": false
   },
   "outputs": [
    {
     "data": {
      "text/plain": [
       "0"
      ]
     },
     "execution_count": 96,
     "metadata": {},
     "output_type": "execute_result"
    }
   ],
   "source": [
    "len(anagram_all)"
   ]
  },
  {
   "cell_type": "code",
   "execution_count": 90,
   "metadata": {
    "collapsed": false
   },
   "outputs": [
    {
     "data": {
      "text/plain": [
       "['dictionary', 'indicatory']"
      ]
     },
     "execution_count": 90,
     "metadata": {},
     "output_type": "execute_result"
    }
   ],
   "source": [
    "anagram_fast(\"dictionary\")"
   ]
  },
  {
   "cell_type": "code",
   "execution_count": 92,
   "metadata": {
    "collapsed": false
   },
   "outputs": [
    {
     "data": {
      "text/plain": [
       "['hero', 'hoer']"
      ]
     },
     "execution_count": 92,
     "metadata": {},
     "output_type": "execute_result"
    }
   ],
   "source": [
    "anagram_fast(\"hero\")"
   ]
  },
  {
   "cell_type": "code",
   "execution_count": null,
   "metadata": {
    "collapsed": true
   },
   "outputs": [],
   "source": []
  }
 ],
 "metadata": {
  "anaconda-cloud": {},
  "kernelspec": {
   "display_name": "Python [default]",
   "language": "python",
   "name": "python3"
  },
  "language_info": {
   "codemirror_mode": {
    "name": "ipython",
    "version": 3
   },
   "file_extension": ".py",
   "mimetype": "text/x-python",
   "name": "python",
   "nbconvert_exporter": "python",
   "pygments_lexer": "ipython3",
   "version": "3.5.2"
  }
 },
 "nbformat": 4,
 "nbformat_minor": 0
}
